{
 "cells": [
  {
   "cell_type": "code",
   "execution_count": null,
   "metadata": {},
   "outputs": [],
   "source": [
    "import pandas as pd\n",
    "import json"
   ]
  },
  {
   "cell_type": "markdown",
   "metadata": {},
   "source": [
    "## Expected Categories/Subcategories"
   ]
  },
  {
   "cell_type": "code",
   "execution_count": null,
   "metadata": {},
   "outputs": [],
   "source": [
    "appsettings_file = '/home/leandro/workspace/net8/household.buget/src/Household.Budget/appsettings.json'\n",
    "with open(appsettings_file, 'r') as file:\n",
    "    appsettings = json.load(file)"
   ]
  },
  {
   "cell_type": "code",
   "execution_count": null,
   "metadata": {},
   "outputs": [],
   "source": [
    "total_categories = 0\n",
    "total_subcategories = 0\n",
    "\n",
    "for item in appsettings['Seed']['Categories']['Data']:\n",
    "    total_categories += 1\n",
    "    \n",
    "    if 'Subcategories' in item:\n",
    "        total_subcategories += len(item['Subcategories'])\n",
    "\n",
    "print(f\"Categories: {total_categories}\")\n",
    "print(f\"Subcategories: {total_subcategories}\")"
   ]
  },
  {
   "cell_type": "markdown",
   "metadata": {},
   "source": [
    "## Expected Transactions"
   ]
  },
  {
   "cell_type": "code",
   "execution_count": null,
   "metadata": {},
   "outputs": [],
   "source": [
    "file = '/home/leandro/Downloads/orcamento-2023.csv'\n",
    "csv_data = pd.read_csv(file, sep=';', comment='#')\n",
    "mothly_data = csv_data.drop(['Category', 'Subcategory'], axis=1)"
   ]
  },
  {
   "cell_type": "code",
   "execution_count": null,
   "metadata": {},
   "outputs": [],
   "source": [
    "greater_than_zero = mothly_data > 0\n",
    "count_greater_than_zero = greater_than_zero.sum()\n",
    "print(f\"total: {count_greather_than_zero.sum()}\")"
   ]
  },
  {
   "cell_type": "code",
   "execution_count": null,
   "metadata": {},
   "outputs": [],
   "source": [
    "# greater_than_zero.to_csv('/home/leandro/workspace/net8/household.buget/scripts/data.csv', index=False)"
   ]
  },
  {
   "cell_type": "code",
   "execution_count": null,
   "metadata": {},
   "outputs": [],
   "source": [
    "less_than_zero = mothly_data <= 0\n",
    "count_less_than_zero = less_than_zero.sum()\n",
    "print(f\"total: {count_less_than_zero.sum()}\")"
   ]
  },
  {
   "cell_type": "code",
   "execution_count": null,
   "metadata": {},
   "outputs": [],
   "source": [
    "print(f\"Total: {count_greather_than_zero.sum() + count_less_than_zero.sum()}\")"
   ]
  },
  {
   "cell_type": "markdown",
   "metadata": {},
   "source": [
    "## Transaction Files (WIP)"
   ]
  },
  {
   "cell_type": "code",
   "execution_count": null,
   "metadata": {},
   "outputs": [],
   "source": [
    "file_path = '/home/leandro/workspace/net8/household.buget/mongo/transactions-2023.json'\n",
    "\n",
    "with open(file_path, 'r') as file:\n",
    "    data_json = json.load(file)"
   ]
  },
  {
   "cell_type": "code",
   "execution_count": null,
   "metadata": {},
   "outputs": [],
   "source": [
    "transactions_list = []\n",
    "\n",
    "for item in data_json:\n",
    "    category = item['category']['name']\n",
    "    subcategory = item['category']['subcategory']['name']\n",
    "    payment = item['payment']['total']\n",
    "    transactions_list.append({category, subcategory, payment})"
   ]
  },
  {
   "cell_type": "code",
   "execution_count": null,
   "metadata": {},
   "outputs": [],
   "source": [
    "transactions_list"
   ]
  }
 ],
 "metadata": {
  "kernelspec": {
   "display_name": "Python 3",
   "language": "python",
   "name": "python3"
  },
  "language_info": {
   "codemirror_mode": {
    "name": "ipython",
    "version": 3
   },
   "file_extension": ".py",
   "mimetype": "text/x-python",
   "name": "python",
   "nbconvert_exporter": "python",
   "pygments_lexer": "ipython3",
   "version": "3.10.12"
  }
 },
 "nbformat": 4,
 "nbformat_minor": 2
}
