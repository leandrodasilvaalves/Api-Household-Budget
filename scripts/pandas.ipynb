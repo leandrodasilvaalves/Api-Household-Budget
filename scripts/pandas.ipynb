{
 "cells": [
  {
   "cell_type": "code",
   "execution_count": 50,
   "metadata": {},
   "outputs": [],
   "source": [
    "import pandas as pd"
   ]
  },
  {
   "cell_type": "code",
   "execution_count": 51,
   "metadata": {},
   "outputs": [],
   "source": [
    "file = '/home/leandro/Downloads/orcamento-2023.csv'\n",
    "csv_data = pd.read_csv(file, sep=';', comment='#')\n",
    "mothly_data = csv_data.drop(['Category', 'Subcategory'], axis=1)"
   ]
  },
  {
   "cell_type": "code",
   "execution_count": 52,
   "metadata": {},
   "outputs": [
    {
     "name": "stdout",
     "output_type": "stream",
     "text": [
      "Jan    28\n",
      "Fev    37\n",
      "Mar    36\n",
      "Apr    39\n",
      "Mai    39\n",
      "Jun    38\n",
      "Jul    34\n",
      "Aug    30\n",
      "Sep    29\n",
      "Oct    33\n",
      "Nov    35\n",
      "Dec    33\n",
      "dtype: int64\n"
     ]
    }
   ],
   "source": [
    "greater_than_zero = mothly_data > 0\n",
    "count_greather_than_zero = greater_than_zero.sum()\n",
    "print(count_greather_than_zero)"
   ]
  },
  {
   "cell_type": "code",
   "execution_count": 53,
   "metadata": {},
   "outputs": [
    {
     "name": "stdout",
     "output_type": "stream",
     "text": [
      "total: 411\n"
     ]
    }
   ],
   "source": [
    "print(f\"total: {count_greather_than_zero.sum()}\")"
   ]
  }
 ],
 "metadata": {
  "kernelspec": {
   "display_name": "Python 3",
   "language": "python",
   "name": "python3"
  },
  "language_info": {
   "codemirror_mode": {
    "name": "ipython",
    "version": 3
   },
   "file_extension": ".py",
   "mimetype": "text/x-python",
   "name": "python",
   "nbconvert_exporter": "python",
   "pygments_lexer": "ipython3",
   "version": "3.10.12"
  }
 },
 "nbformat": 4,
 "nbformat_minor": 2
}
