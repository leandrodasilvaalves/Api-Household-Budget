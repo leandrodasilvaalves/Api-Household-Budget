{
 "cells": [
  {
   "cell_type": "markdown",
   "metadata": {},
   "source": [
    "## Relatório Mensal"
   ]
  },
  {
   "cell_type": "code",
   "execution_count": null,
   "metadata": {},
   "outputs": [],
   "source": [
    "# # se necessario, descomentar e \n",
    "# # excecutar para instalar dependencias\n",
    "\n",
    "# %pip install requests\n",
    "# %pip install pandas"
   ]
  },
  {
   "cell_type": "code",
   "execution_count": null,
   "metadata": {},
   "outputs": [],
   "source": [
    "import pandas as pd\n",
    "import requests\n",
    "import json\n",
    "import configparser"
   ]
  },
  {
   "cell_type": "code",
   "execution_count": null,
   "metadata": {},
   "outputs": [],
   "source": [
    "config = configparser.ConfigParser()\n",
    "\n",
    "config.read('config.ini')\n",
    "\n",
    "username = config['Credentials']['username']\n",
    "password = config['Credentials']['password']\n",
    "api_url = config['API']['api_url']"
   ]
  },
  {
   "cell_type": "code",
   "execution_count": null,
   "metadata": {},
   "outputs": [],
   "source": [
    "payload = json.dumps({\n",
    "  \"username\": username,\n",
    "  \"password\": password\n",
    "})\n",
    "headers = {\n",
    "  'Content-Type': 'application/json',\n",
    "}\n",
    "\n",
    "response = requests.request(\"POST\", f\"{api_url}/api/v1/identity/login\", headers=headers, data=payload)\n",
    "response_json = json.loads(response.text)\n",
    "bearer_token = f\"Bearer {response_json['data']['access_token']}\"\n"
   ]
  },
  {
   "cell_type": "markdown",
   "metadata": {},
   "source": [
    "#### Login Request"
   ]
  },
  {
   "cell_type": "code",
   "execution_count": null,
   "metadata": {},
   "outputs": [],
   "source": [
    "import requests\n",
    "\n",
    "year=2024\n",
    "month=\"JANUARY\"\n",
    "url = f\"{api_url}/api/v1/budget/{year}/{month}\"\n",
    "\n",
    "payload = {}\n",
    "headers = { 'Authorization': bearer_token}\n",
    "response = requests.request(\"GET\", url, headers=headers, data=payload)\n",
    "response_json = json.loads(response.text)\n"
   ]
  },
  {
   "cell_type": "markdown",
   "metadata": {},
   "source": [
    "#### Monthly Budget Request"
   ]
  },
  {
   "cell_type": "code",
   "execution_count": null,
   "metadata": {},
   "outputs": [],
   "source": [
    "categories = []\n",
    "subcategories = []\n",
    "total_planned = []\n",
    "total_actual = []\n",
    "total_difference = []\n",
    "\n",
    "for category in response_json['data']['categories']:\n",
    "    category_name = category['name']\n",
    "    \n",
    "    for subcategory in category['subcategories']:\n",
    "        subcategory_name = subcategory['name']\n",
    "        planned = subcategory['total']['planned']\n",
    "        actual = subcategory['total']['actual']\n",
    "        difference = subcategory['total']['difference']\n",
    "        \n",
    "        categories.append(category_name)\n",
    "        subcategories.append(subcategory_name)\n",
    "        total_planned.append(planned)\n",
    "        total_actual.append(actual)\n",
    "        total_difference.append(difference)\n",
    "\n",
    "df = pd.DataFrame({\n",
    "    'categories': categories,\n",
    "    'categories': categories,\n",
    "    'actual': total_actual,\n",
    "    'planned': total_planned,\n",
    "    'difference': total_difference,\n",
    "})\n",
    "\n",
    "df[df['actual']>0]"
   ]
  }
 ],
 "metadata": {
  "kernelspec": {
   "display_name": "Python 3",
   "language": "python",
   "name": "python3"
  },
  "language_info": {
   "codemirror_mode": {
    "name": "ipython",
    "version": 3
   },
   "file_extension": ".py",
   "mimetype": "text/x-python",
   "name": "python",
   "nbconvert_exporter": "python",
   "pygments_lexer": "ipython3",
   "version": "3.10.12"
  }
 },
 "nbformat": 4,
 "nbformat_minor": 2
}
