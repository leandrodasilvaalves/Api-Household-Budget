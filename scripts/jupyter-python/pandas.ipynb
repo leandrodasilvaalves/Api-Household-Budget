{
 "cells": [
  {
   "cell_type": "code",
   "execution_count": null,
   "metadata": {},
   "outputs": [],
   "source": [
    "import pandas as pd\n",
    "import json"
   ]
  },
  {
   "cell_type": "markdown",
   "metadata": {},
   "source": [
    "## Expected Categories/Subcategories"
   ]
  },
  {
   "cell_type": "code",
   "execution_count": null,
   "metadata": {},
   "outputs": [],
   "source": [
    "appsettings_file = '/home/leandro/workspace/net8/household.buget/src/Household.Budget/appsettings.json'\n",
    "with open(appsettings_file, 'r') as file:\n",
    "    appsettings = json.load(file)"
   ]
  },
  {
   "cell_type": "code",
   "execution_count": null,
   "metadata": {},
   "outputs": [],
   "source": [
    "total_categories = 0\n",
    "total_subcategories = 0\n",
    "\n",
    "for item in appsettings['Seed']['Categories']['Data']:\n",
    "    total_categories += 1\n",
    "    \n",
    "    if 'Subcategories' in item:\n",
    "        total_subcategories += len(item['Subcategories'])\n",
    "\n",
    "print(f\"Categories: {total_categories}\")\n",
    "print(f\"Subcategories: {total_subcategories}\")"
   ]
  },
  {
   "cell_type": "markdown",
   "metadata": {},
   "source": [
    "## Expected Transactions"
   ]
  },
  {
   "cell_type": "code",
   "execution_count": null,
   "metadata": {},
   "outputs": [],
   "source": [
    "file = '/home/leandro/Downloads/orcamento-2024.csv'\n",
    "csv_data = pd.read_csv(file, sep=';')\n",
    "mothly_data = csv_data.drop(['Category', 'Subcategory'], axis=1)"
   ]
  },
  {
   "cell_type": "code",
   "execution_count": null,
   "metadata": {},
   "outputs": [],
   "source": [
    "greater_than_zero = mothly_data > 0\n",
    "count_greater_than_zero = greater_than_zero.sum()\n",
    "print(f\"total: {count_greater_than_zero.sum()}\")"
   ]
  },
  {
   "cell_type": "markdown",
   "metadata": {},
   "source": [
    "## Analysis"
   ]
  },
  {
   "cell_type": "code",
   "execution_count": null,
   "metadata": {},
   "outputs": [],
   "source": [
    "budget_json_file = '/home/leandro/workspace/net8/household.buget/mongo/monthlybudget-2024-01.json'\n",
    "\n",
    "with open(budget_json_file, 'r') as file:\n",
    "    budget_data_json = json.load(file)\n",
    "\n",
    "categories = []\n",
    "subcategories = []\n",
    "total_actuals = []\n",
    "\n",
    "for category in budget_data_json['data']['categories']:\n",
    "    category_name = category['name']\n",
    "    \n",
    "    for subcategory in category['subcategories']:\n",
    "        subcategory_name = subcategory['name']\n",
    "        actual = subcategory['total']['actual']\n",
    "        \n",
    "        categories.append(category_name)\n",
    "        subcategories.append(subcategory_name)\n",
    "        total_actuals.append(actual)\n",
    "\n",
    "df = pd.DataFrame({\n",
    "    'Category': categories,\n",
    "    'Subcategory': subcategories,\n",
    "    'Total_Actual': total_actuals\n",
    "})\n",
    "\n",
    "df[df['Total_Actual'] > 0]"
   ]
  }
 ],
 "metadata": {
  "kernelspec": {
   "display_name": "Python 3",
   "language": "python",
   "name": "python3"
  },
  "language_info": {
   "codemirror_mode": {
    "name": "ipython",
    "version": 3
   },
   "file_extension": ".py",
   "mimetype": "text/x-python",
   "name": "python",
   "nbconvert_exporter": "python",
   "pygments_lexer": "ipython3",
   "version": "3.10.12"
  }
 },
 "nbformat": 4,
 "nbformat_minor": 2
}
